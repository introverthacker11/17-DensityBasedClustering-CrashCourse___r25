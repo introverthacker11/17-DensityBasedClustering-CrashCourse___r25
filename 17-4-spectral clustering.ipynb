{
 "cells": [
  {
   "cell_type": "markdown",
   "id": "5822f82b",
   "metadata": {},
   "source": [
    "###\n",
    "## Spectral Clustering\n",
    "###\n",
    "Spectral Clustering is a clustering algorithm based on the eigenvectors of the laplacian matrix of the graph of pairwise similarities between the samples. It is particularly effective if the clusters are globular.\n",
    "\n",
    "Learn more: https://scikit-learn.org/stable/modules/generated/sklearn.cluster.SpectralClustering.html\n",
    "\n",
    "####\n",
    "\n",
    "**Spectral Clustering Algorithm:**\n",
    "- Similarity Graph Construction: Represents data points as nodes in a graph, with edges indicating similarity between points.\n",
    "- Laplacian Matrix Computation: Derives a matrix summarizing the graph structure to capture relationships.\n",
    "- Eigen Decomposition: Calculates eigenvalues and eigenvectors of the Laplacian matrix to transform data.\n",
    "- Dimensionality Reduction: Uses selected eigenvectors to represent data in a lower-dimensional space.\n",
    "- Clustering: Applies a standard clustering method (like k-means) on the reduced data to group similar points.\n",
    "\n",
    "**Pros:**\n",
    "- Handles Non-linear Structures: Excels at finding clusters of arbitrary shapes.\n",
    "Works with Global Structure: Leverages the overall data structure for more accurate clustering.\n",
    "- Flexible Similarity Measures: Allows customization of similarity metrics (e.g., Gaussian kernel).\n",
    "- Effective for Small to Medium Data: Performs well with datasets where graph computation is manageable.\n",
    "- Powerful in Complex Scenarios: Useful for problems like image segmentation and community detection.\n",
    "\n",
    "**Cons:**\n",
    "- Scalability Issues: Computationally expensive for large datasets due to eigen decomposition.\n",
    "- Choice of Parameters: Requires careful selection of similarity metric and number of clusters.\n",
    "- Interpretability: Eigenvectors and similarity graphs can be harder to interpret compared to simpler methods.\n",
    "- Memory Usage: Needs a similarity matrix, which can become large for big datasets.\n",
    "- Assumption of Number of Clusters: Often needs the number of clusters as input, which might not always be obvious."
   ]
  }
 ],
 "metadata": {
  "kernelspec": {
   "display_name": "Python 3 (ipykernel)",
   "language": "python",
   "name": "python3"
  },
  "language_info": {
   "codemirror_mode": {
    "name": "ipython",
    "version": 3
   },
   "file_extension": ".py",
   "mimetype": "text/x-python",
   "name": "python",
   "nbconvert_exporter": "python",
   "pygments_lexer": "ipython3",
   "version": "3.11.5"
  }
 },
 "nbformat": 4,
 "nbformat_minor": 5
}
